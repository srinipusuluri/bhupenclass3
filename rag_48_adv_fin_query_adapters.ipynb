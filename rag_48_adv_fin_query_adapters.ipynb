{
 "cells": [
  {
   "cell_type": "markdown",
   "id": "0736d680-cf7f-4367-bcad-0d23ae03f913",
   "metadata": {},
   "source": [
    "------------------------------\n",
    "#### Embedding Adapters \n",
    "-------------------------------------\n",
    "\n",
    "- in the context of Retrieval-Augmented Generation (RAG) models refer to a specific mechanism that enhances the `query formulation process` for improved retrieval performance in a natural language processing (NLP) pipeline.\n",
    "- RAG combines `retrieval` and `generative capabilities`, allowing models to retrieve relevant documents from a knowledge base or database and then use this information to generate responses."
   ]
  },
  {
   "cell_type": "code",
   "execution_count": 1,
   "id": "3373e1e3-e777-4df1-9c87-a8e22a13c769",
   "metadata": {},
   "outputs": [],
   "source": [
    "from helper_utils import load_chroma, word_wrap, project_embeddings\n",
    "from chromadb.utils.embedding_functions import SentenceTransformerEmbeddingFunction\n",
    "import numpy as np\n",
    "import umap\n",
    "from tqdm import tqdm\n",
    "\n",
    "import torch"
   ]
  },
  {
   "cell_type": "code",
   "execution_count": 2,
   "id": "b0b48e8e-82e4-4666-bdb5-26a0ca930581",
   "metadata": {},
   "outputs": [
    {
     "name": "stdout",
     "output_type": "stream",
     "text": [
      "WARNING:tensorflow:From D:\\ANACONDA\\Lib\\site-packages\\tf_keras\\src\\losses.py:2976: The name tf.losses.sparse_softmax_cross_entropy is deprecated. Please use tf.compat.v1.losses.sparse_softmax_cross_entropy instead.\n",
      "\n"
     ]
    },
    {
     "name": "stderr",
     "output_type": "stream",
     "text": [
      "D:\\ANACONDA\\Lib\\site-packages\\transformers\\tokenization_utils_base.py:1617: FutureWarning: `clean_up_tokenization_spaces` was not set. It will be set to `True` by default. This behavior will be deprecated in transformers v4.45, and will be then set to `False` by default. For more details check this issue: https://github.com/huggingface/transformers/issues/31884\n",
      "  warnings.warn(\n"
     ]
    },
    {
     "data": {
      "text/plain": [
       "349"
      ]
     },
     "execution_count": 2,
     "metadata": {},
     "output_type": "execute_result"
    }
   ],
   "source": [
    "embedding_function = SentenceTransformerEmbeddingFunction()\n",
    "\n",
    "chroma_collection = load_chroma(filename          = r'./data/microsoft_annual_report_2022.pdf', \n",
    "                                collection_name   = 'microsoft_annual_report_2022', \n",
    "                                embedding_function= embedding_function)\n",
    "chroma_collection.count()"
   ]
  },
  {
   "cell_type": "code",
   "execution_count": 3,
   "id": "40ff4666-f349-485e-ae19-d9d44d02e348",
   "metadata": {},
   "outputs": [
    {
     "name": "stderr",
     "output_type": "stream",
     "text": [
      "D:\\ANACONDA\\Lib\\site-packages\\umap\\umap_.py:1945: UserWarning: n_jobs value 1 overridden to 1 by setting random_state. Use no seed for parallelism.\n",
      "  warn(f\"n_jobs value {self.n_jobs} overridden to 1 by setting random_state. Use no seed for parallelism.\")\n"
     ]
    }
   ],
   "source": [
    "embeddings     = chroma_collection.get(include=['embeddings'])['embeddings']\n",
    "umap_transform = umap.UMAP(random_state=0, transform_seed=0).fit(embeddings)"
   ]
  },
  {
   "cell_type": "code",
   "execution_count": 4,
   "id": "be5386e6-379a-4c3d-ad51-5e86ec786a02",
   "metadata": {},
   "outputs": [],
   "source": [
    "import pickle"
   ]
  },
  {
   "cell_type": "code",
   "execution_count": 5,
   "id": "4075d882-42e0-4ba0-aa22-b0bb154dec46",
   "metadata": {},
   "outputs": [],
   "source": [
    "# Save the UMAP model to a file\n",
    "with open('umap_model.pkl', 'wb') as f:\n",
    "    pickle.dump(umap_transform, f)"
   ]
  },
  {
   "cell_type": "code",
   "execution_count": 6,
   "id": "01844724-4482-49ba-9a71-5e57bbab6f4a",
   "metadata": {},
   "outputs": [],
   "source": [
    "# Load the UMAP model from the file\n",
    "with open('umap_model.pkl', 'rb') as f:\n",
    "    umap_transform = pickle.load(f)"
   ]
  },
  {
   "cell_type": "code",
   "execution_count": 7,
   "id": "eefb455e-c093-4fbf-90b7-bd3d3a01726b",
   "metadata": {},
   "outputs": [
    {
     "name": "stderr",
     "output_type": "stream",
     "text": [
      "100%|███████████████████████████████████████████████████████████████████████| 349/349 [05:26<00:00,  1.07it/s]\n"
     ]
    }
   ],
   "source": [
    "projected_dataset_embeddings = project_embeddings(embeddings, umap_transform)"
   ]
  },
  {
   "cell_type": "code",
   "execution_count": 8,
   "id": "d73ca72e-41d4-48e5-9a7b-bdad67efd634",
   "metadata": {},
   "outputs": [],
   "source": [
    "# Assuming 'projected_dataset_embeddings' is the transformed dataset\n",
    "with open('projected_embeddings.pkl', 'wb') as f:\n",
    "    pickle.dump(projected_dataset_embeddings, f)"
   ]
  },
  {
   "cell_type": "code",
   "execution_count": 9,
   "id": "79641885-b232-4092-a5b8-1a5182babee8",
   "metadata": {},
   "outputs": [],
   "source": [
    "with open('projected_embeddings.pkl', 'rb') as f:\n",
    "    projected_dataset_embeddings = pickle.load(f)"
   ]
  },
  {
   "cell_type": "code",
   "execution_count": 10,
   "id": "2927af63-3bd4-4c13-b406-cc8c1f6a440e",
   "metadata": {},
   "outputs": [],
   "source": [
    "import os\n",
    "import openai\n",
    "from openai import OpenAI\n",
    "\n",
    "openai.api_key = os.environ['OPENAI_API_KEY']"
   ]
  },
  {
   "cell_type": "code",
   "execution_count": 11,
   "id": "4504d81d-3350-4933-b53b-976093c6852d",
   "metadata": {},
   "outputs": [],
   "source": [
    "openai_client = OpenAI()"
   ]
  },
  {
   "cell_type": "markdown",
   "id": "1f96aa11-c463-4f0b-bef8-30064b2dcbeb",
   "metadata": {},
   "source": [
    "#### Creating a dataset"
   ]
  },
  {
   "cell_type": "code",
   "execution_count": 12,
   "id": "07fc226f-ec53-4522-ab3e-ca4d245e8e49",
   "metadata": {},
   "outputs": [],
   "source": [
    "def generate_queries(model=\"gpt-3.5-turbo\"):\n",
    "    messages = [\n",
    "        {\n",
    "            \"role\": \"system\",\n",
    "            \"content\": \"You are a helpful expert financial research assistant. You help users analyze financial statements to better understand companies. \"\n",
    "            \"Suggest 10 to 15 short questions that are important to ask when analyzing an annual report. \"\n",
    "            \"Do not output any compound questions (questions with multiple sentences or conjunctions).\"\n",
    "            \"Output each question on a separate line divided by a newline.\"\n",
    "        },\n",
    "    ]\n",
    "\n",
    "    response = openai_client.chat.completions.create(\n",
    "        model=model,\n",
    "        messages=messages,\n",
    "    )\n",
    "    content = response.choices[0].message.content\n",
    "    content = content.split(\"\\n\")\n",
    "    return content"
   ]
  },
  {
   "cell_type": "code",
   "execution_count": 14,
   "id": "ff735f8f-9da5-46c7-b242-78e2233d1d0d",
   "metadata": {},
   "outputs": [
    {
     "name": "stdout",
     "output_type": "stream",
     "text": [
      "1. What are the company's total revenues for the year?\n",
      "2. What is the company's net income for the year?\n",
      "3. How much cash does the company have on hand?\n",
      "4. What is the company's debt-to-equity ratio?\n",
      "5. What were the company's operating expenses for the year?\n",
      "6. How much did the company spend on research and development?\n",
      "7. What is the company's earnings per share?\n",
      "8. How much inventory does the company currently hold?\n",
      "9. What is the company's current ratio?\n",
      "10. How much did the company pay in dividends?\n",
      "11. What is the company's return on investment?\n",
      "12. How much did the company spend on capital expenditures?\n",
      "13. What are the company's current liabilities?\n",
      "14. How much cash flow did the company generate from operating activities?\n",
      "15. What is the company's market capitalization?\n"
     ]
    }
   ],
   "source": [
    "generated_queries = generate_queries()\n",
    "\n",
    "for query in generated_queries:\n",
    "    print(query)"
   ]
  },
  {
   "cell_type": "code",
   "execution_count": 15,
   "id": "b871d985-d5af-4e47-aa40-276e1aa202c8",
   "metadata": {},
   "outputs": [],
   "source": [
    "results = chroma_collection.query(query_texts= generated_queries, \n",
    "                                  n_results  = 10, \n",
    "                                  include=['documents', 'embeddings'])\n",
    "\n",
    "retrieved_documents = results['documents']"
   ]
  },
  {
   "cell_type": "code",
   "execution_count": 16,
   "id": "9cb8332c-7c1c-4f90-b1d9-ae544e45237c",
   "metadata": {},
   "outputs": [
    {
     "data": {
      "text/plain": [
       "15"
      ]
     },
     "execution_count": 16,
     "metadata": {},
     "output_type": "execute_result"
    }
   ],
   "source": [
    "len(retrieved_documents)"
   ]
  },
  {
   "cell_type": "code",
   "execution_count": 17,
   "id": "8b880ff5-748d-4d0e-abfd-01867a28778d",
   "metadata": {},
   "outputs": [],
   "source": [
    "def evaluate_results(query, statement, model=\"gpt-3.5-turbo\"):\n",
    "    messages = [\n",
    "    {\n",
    "        \"role\": \"system\",\n",
    "        \"content\": \"You are a helpful expert financial research assistant. You help users analyze financial statements to better understand companies. \"\n",
    "        \"For the given query, evaluate whether the following satement is relevant.\"\n",
    "        \"Output only 'yes' or 'no'.\"\n",
    "    },\n",
    "    {\n",
    "        \"role\": \"user\",\n",
    "        \"content\": f\"Query: {query}, Statement: {statement}\"\n",
    "    }\n",
    "    ]\n",
    "\n",
    "    response = openai_client.chat.completions.create(\n",
    "        model=model,\n",
    "        messages=messages,\n",
    "        max_tokens=1\n",
    "    )\n",
    "    content = response.choices[0].message.content\n",
    "    if content == \"yes\":\n",
    "        return 1\n",
    "    return -1"
   ]
  },
  {
   "cell_type": "code",
   "execution_count": 18,
   "id": "a435e24a-9b59-4c65-a3fc-6f29a807b9d9",
   "metadata": {},
   "outputs": [],
   "source": [
    "retrieved_embeddings = results['embeddings']\n",
    "query_embeddings = embedding_function(generated_queries)"
   ]
  },
  {
   "cell_type": "code",
   "execution_count": 19,
   "id": "b0c280c1-31a8-43cd-be36-addd431cd935",
   "metadata": {},
   "outputs": [],
   "source": [
    "adapter_query_embeddings = []\n",
    "adapter_doc_embeddings   = []\n",
    "adapter_labels           = []"
   ]
  },
  {
   "cell_type": "code",
   "execution_count": 20,
   "id": "390b5f5c-6dd6-446c-9e81-2b9cb66a354b",
   "metadata": {},
   "outputs": [
    {
     "name": "stderr",
     "output_type": "stream",
     "text": [
      "100%|█████████████████████████████████████████████████████████████████████████| 15/15 [01:27<00:00,  5.87s/it]\n"
     ]
    }
   ],
   "source": [
    "# time = 10 mins\n",
    "for q, query in enumerate(tqdm(generated_queries)):\n",
    "    for d, document in enumerate(retrieved_documents[q]):\n",
    "        adapter_query_embeddings.append(query_embeddings[q])\n",
    "        adapter_doc_embeddings.append(retrieved_embeddings[q][d])\n",
    "        adapter_labels.append(evaluate_results(query, document))"
   ]
  },
  {
   "cell_type": "code",
   "execution_count": 22,
   "id": "4bd92be8-168f-42f9-bb71-e48561e321bb",
   "metadata": {},
   "outputs": [
    {
     "data": {
      "text/plain": [
       "150"
      ]
     },
     "execution_count": 22,
     "metadata": {},
     "output_type": "execute_result"
    }
   ],
   "source": [
    "len(adapter_labels)           # 15 queries , 10 results each"
   ]
  },
  {
   "cell_type": "code",
   "execution_count": 23,
   "id": "32a576a1-1811-4c0a-99fd-2ba3a3a6e90a",
   "metadata": {},
   "outputs": [],
   "source": [
    "adapter_query_embeddings = torch.Tensor(np.array(adapter_query_embeddings))\n",
    "adapter_doc_embeddings   = torch.Tensor(np.array(adapter_doc_embeddings))\n",
    "adapter_labels           = torch.Tensor(np.expand_dims(np.array(adapter_labels),1))"
   ]
  },
  {
   "cell_type": "markdown",
   "id": "4c3c67bb-068f-452e-8d57-547b4754f63d",
   "metadata": {},
   "source": [
    "- adapter_query_embeddings: Embeddings for the queries (e.g., query representations).\n",
    "- adapter_doc_embeddings: Embeddings for the documents (e.g., document representations).\n",
    "- adapter_labels: Labels or target values for each query-document pair, which could represent relevance scores or other training signals.\n",
    "\n",
    "Each entry in the dataset will be a tuple (query_embedding, doc_embedding, label)"
   ]
  },
  {
   "cell_type": "code",
   "execution_count": 24,
   "id": "9a5cf5af-f6ab-4cc0-8456-5d63861257af",
   "metadata": {},
   "outputs": [],
   "source": [
    "dataset = torch.utils.data.TensorDataset(adapter_query_embeddings, adapter_doc_embeddings, adapter_labels)"
   ]
  },
  {
   "cell_type": "markdown",
   "id": "b4d9eabe-9436-4b3d-9a5d-b7b5ffb10ac2",
   "metadata": {},
   "source": [
    "#### Setting up the model"
   ]
  },
  {
   "cell_type": "markdown",
   "id": "278f9cf9-d8ea-4a46-b5a6-fee53b468bed",
   "metadata": {},
   "source": [
    "- The function first transforms the `query_embedding` using matrix multiplication with the `adaptor_matrix`.\n",
    "- This step applies a linear transformation, potentially to `align` the query embedding with the document embedding space or adjust it to capture certain task-specific information."
   ]
  },
  {
   "cell_type": "code",
   "execution_count": 25,
   "id": "679ee7fe-21f6-4063-97f6-7f88e594ed7a",
   "metadata": {},
   "outputs": [],
   "source": [
    "def model(query_embedding, document_embedding, adaptor_matrix):\n",
    "    updated_query_embedding = torch.matmul(adaptor_matrix, query_embedding)\n",
    "    return torch.cosine_similarity(updated_query_embedding, document_embedding, dim=0)"
   ]
  },
  {
   "cell_type": "markdown",
   "id": "f4f42e6f-065b-4965-856f-1d281c3c3a1a",
   "metadata": {},
   "source": [
    "- After transforming the query embedding, the function computes the cosine similarity between the updated_query_embedding and the document_embedding.\n",
    "- Cosine similarity is commonly used to measure the similarity between two vectors, with values ranging from -1 (opposite) to 1 (identical in direction)."
   ]
  },
  {
   "cell_type": "markdown",
   "id": "e543bbc5-d1ae-4d32-a312-ae9b385c4328",
   "metadata": {},
   "source": [
    "`Usage and Purpose`\n",
    "\n",
    "- **Purpose**: This function is designed to assess the **relevance or similarity** between a query and a document by first transforming the query into a potentially more compatible space using the adapter matrix. The transformation aligns the query embedding to a new space or adjusts it to better match the document embedding, enhancing similarity calculation.\n",
    "\n",
    "- **Applications**: Such a function is especially useful in tasks like **information retrieval** and **document matching**, where optimizing query-document similarity is essential. It finds applications in dual encoder models (where separate encoders process queries and documents) and retrieval-augmented generation (RAG) frameworks, commonly used in search engines, recommendation systems, and question-answering applications. The transformation improves retrieval effectiveness by enhancing compatibility between the query and document representations.\n"
   ]
  },
  {
   "cell_type": "code",
   "execution_count": 28,
   "id": "7453c0b9-e0c2-4e52-870f-e6c6b7ee182c",
   "metadata": {},
   "outputs": [],
   "source": [
    "def mse_loss(query_embedding, \n",
    "             document_embedding, \n",
    "             adaptor_matrix, \n",
    "             label):\n",
    "    \n",
    "    return torch.nn.MSELoss()(model(query_embedding, document_embedding, adaptor_matrix), label)"
   ]
  },
  {
   "cell_type": "markdown",
   "id": "0bd2ea7b-b0b6-4b6a-9fa3-39fc9fef0c1f",
   "metadata": {},
   "source": [
    "- This function, `mse_loss`, computes the Mean Squared Error (MSE) loss between the predicted similarity score (from the model function) and the actual label. \n",
    "\n",
    "- calls the model function to get the `predicted similarity score` after transforming the `query_embedding` with the adaptor_matrix.\n",
    "\n",
    "- Then, torch.nn.MSELoss() calculates the mean squared error between the predicted similarity score and the label."
   ]
  },
  {
   "cell_type": "code",
   "execution_count": 29,
   "id": "97b05e27-5411-4c81-ba2a-823a52abb1e8",
   "metadata": {},
   "outputs": [
    {
     "name": "stdout",
     "output_type": "stream",
     "text": [
      "MSE Loss: 0.5465078353881836\n"
     ]
    }
   ],
   "source": [
    "# Example of computing MSE loss\n",
    "query_embedding    = torch.randn(128)       # Example query embedding\n",
    "document_embedding = torch.randn(128)       # Example document embedding\n",
    "adaptor_matrix     = torch.randn(128, 128)  # Example adaptor matrix\n",
    "label              = torch.tensor(0.8)      # Target similarity score\n",
    "\n",
    "loss = mse_loss(query_embedding, document_embedding, adaptor_matrix, label)\n",
    "print(f\"MSE Loss: {loss.item()}\")"
   ]
  },
  {
   "cell_type": "markdown",
   "id": "de929d4c-246e-4566-8668-534da13fc9f0",
   "metadata": {},
   "source": [
    "... back to the main code"
   ]
  },
  {
   "cell_type": "markdown",
   "id": "b79e2b4c-a6d3-4f27-9dce-2a43ad10374d",
   "metadata": {},
   "source": [
    "#### Initialize the adaptor matrix"
   ]
  },
  {
   "cell_type": "code",
   "execution_count": 33,
   "id": "697748cd-1006-4418-a327-0165a62f57e9",
   "metadata": {},
   "outputs": [
    {
     "data": {
      "text/plain": [
       "torch.Size([150, 384])"
      ]
     },
     "execution_count": 33,
     "metadata": {},
     "output_type": "execute_result"
    }
   ],
   "source": [
    "adapter_query_embeddings.shape"
   ]
  },
  {
   "cell_type": "code",
   "execution_count": 34,
   "id": "73b04e10-297c-4743-ae3e-4f57b1dbf4ff",
   "metadata": {},
   "outputs": [],
   "source": [
    "mat_size       = len(adapter_query_embeddings[0])\n",
    "adapter_matrix = torch.randn(mat_size, mat_size, requires_grad=True)"
   ]
  },
  {
   "cell_type": "code",
   "execution_count": 35,
   "id": "1673d2f8-c4b0-4a8a-8844-5c940f00957c",
   "metadata": {},
   "outputs": [
    {
     "data": {
      "text/plain": [
       "torch.Size([384, 384])"
      ]
     },
     "execution_count": 35,
     "metadata": {},
     "output_type": "execute_result"
    }
   ],
   "source": [
    "adapter_matrix.shape"
   ]
  },
  {
   "cell_type": "code",
   "execution_count": 36,
   "id": "5251837f-18a4-47ea-8028-29df04e8ba89",
   "metadata": {},
   "outputs": [
    {
     "name": "stderr",
     "output_type": "stream",
     "text": [
      "  0%|                                                                                 | 0/100 [00:00<?, ?it/s]D:\\ANACONDA\\Lib\\site-packages\\torch\\nn\\modules\\loss.py:538: UserWarning: Using a target size (torch.Size([1])) that is different to the input size (torch.Size([])). This will likely lead to incorrect results due to broadcasting. Please ensure they have the same size.\n",
      "  return F.mse_loss(input, target, reduction=self.reduction)\n",
      "100%|███████████████████████████████████████████████████████████████████████| 100/100 [00:07<00:00, 13.34it/s]\n"
     ]
    }
   ],
   "source": [
    "min_loss    = float('inf')   # Keeps track of the lowest loss encountered during training.\n",
    "best_matrix = None           # Stores the adapter matrix that resulted in the minimum loss.\n",
    "\n",
    "for epoch in tqdm(range(100)):            # updating adapter_matrix each time.\n",
    "    \n",
    "    for query_embedding, document_embedding, label in dataset:\n",
    "        \n",
    "        loss = mse_loss(query_embedding, document_embedding, adapter_matrix, label)\n",
    "\n",
    "        if loss < min_loss:\n",
    "            min_loss = loss\n",
    "            best_matrix = adapter_matrix.clone().detach().numpy()\n",
    "\n",
    "        loss.backward()                     # computes the gradients with respect to adapter_matrix.\n",
    "        with torch.no_grad():\n",
    "            # is updated by moving in the direction of the negative gradient\n",
    "            adapter_matrix -= 0.01 * adapter_matrix.grad\n",
    "\n",
    "            # clears the gradients to prevent accumulation from previous iterations\n",
    "            adapter_matrix.grad.zero_()\n",
    "        "
   ]
  },
  {
   "cell_type": "code",
   "execution_count": 37,
   "id": "2b136c0f-47b2-4ed4-8845-f018840bf021",
   "metadata": {},
   "outputs": [
    {
     "name": "stdout",
     "output_type": "stream",
     "text": [
      "Best loss: 0.5346463322639465\n"
     ]
    }
   ],
   "source": [
    "print(f\"Best loss: {min_loss.detach().numpy()}\")"
   ]
  },
  {
   "cell_type": "markdown",
   "id": "f7c987e2-7882-4d2e-99c5-a34419d9cd82",
   "metadata": {},
   "source": [
    "#### Understanding MSE with Binary Labels\n",
    "\n",
    "1. **Labeling Context**:\n",
    "   - **+1**: Indicates that the query and document are similar or relevant.\n",
    "   - **-1**: Indicates that the query and document are dissimilar or not relevant.\n",
    "\n",
    "2. **Mean Squared Error Calculation**:\n",
    "   The Mean Squared Error (MSE) is calculated as:\n",
    "  $$\n",
    "   \\text{MSE} = \\frac{1}{n} \\sum_{i=1}^{n} (y_{\\text{pred}, i} - y_{\\text{true}, i})^2\n",
    "$$\n",
    "   where $( y_{\\text{pred}, i} )$ is the predicted similarity score and $( y_{\\text{true}, i} ) $is the actual label (+1 or -1).\n",
    "\n",
    "3. **Possible Predictions**:\n",
    "   In a binary classification scenario with labels of **+1** and **-1**, the predicted similarity scores can range between these two values (or even outside this range if not constrained):\n",
    "   - A perfect prediction for **+1** would yield a score close to **+1**.\n",
    "   - A perfect prediction for **-1** would yield a score close to **-1**.\n",
    "\n",
    "##### Interpreting an MSE of 0.53\n",
    "\n",
    "1. **Range of Predictions**:\n",
    "   - If you have predictions that are consistently off by a small margin from the actual labels (+1 or -1), this can lead to an MSE of **0.53**. For instance:\n",
    "     - For a label of **+1**, if the predicted score is **0.7**, the squared error is:\n",
    "       \\[\n",
    "       (0.7 - 1)^2 = 0.09\n",
    "       \\]\n",
    "     - For a label of **-1**, if the predicted score is **-0.5**, the squared error is:\n",
    "       \\[\n",
    "       (-0.5 + 1)^2 = 0.25\n",
    "       \\]\n",
    "\n",
    "2. **Comparative Goodness**:\n",
    "   - In the context of MSE, a lower value indicates better performance. The maximum error for predictions close to the labels of **+1** and **-1** is **4** (for example, if predictions are **-1** for a true **+1** and vice versa).\n",
    "   - An MSE of **0.53** suggests that the average squared difference between predictions and true labels is relatively small, indicating that the model is performing reasonably well.\n",
    "\n",
    "##### Context Matters\n",
    "\n",
    "1. **Task Sensitivity**: Whether **0.53** is a good MSE depends on the application:\n",
    "   - In some applications (like fine-grained sentiment analysis), you might need a very low MSE (close to **0**).\n",
    "   - In other scenarios, an MSE of **0.53** might be acceptable if it yields good classification accuracy or aligns well with business goals.\n",
    "\n",
    "2. **Distribution of Errors**: Analyzing how predictions are distributed (i.e., how many fall into ranges near **+1** and **-1**) will also help assess whether **0.53** is acceptable or needs improvement.\n",
    "\n",
    "##### Conclusion\n",
    "\n",
    "In summary, an MSE of **0.53** in a binary similarity task with labels of **+1** and **-1** indicates that the model is producing predictions that are not too far from the true labels. While it may suggest reasonable performance, the evaluation should also consider the specific task requirements, the distribution of predictions, and other metrics to determine whether further optimization is necessary.\n"
   ]
  },
  {
   "cell_type": "markdown",
   "id": "635d3f81-83f7-46a2-b28b-ad1a594e8188",
   "metadata": {},
   "source": [
    "#### How the Adapter Matrix Influences Embeddings\n",
    "\n",
    "The adapter matrix plays a crucial role in transforming and aligning embeddings in various machine learning models, particularly in scenarios involving dual encoders, retrieval-augmented generation (RAG), and other similar architectures. \n",
    "\n",
    "##### 1. Transformation of Query Embeddings\n",
    "- **Purpose**: The primary function of the adapter matrix is to transform the `query embeddings` into a space that is more compatible with the `document embeddings`.\n",
    "- **Mathematical Representation**:\n",
    "  $$\n",
    "  \\text{Updated Query Embedding} = \\text{Adapter Matrix} \\times \\text{Query Embedding}\n",
    "  $$\n",
    "- **Impact**: This transformation allows the model to better capture the relationship between the `queries` and `documents`, improving the relevance of the matching process.\n",
    "\n",
    "##### 2. Alignment of Representations\n",
    "- **Goal**: The adapter matrix helps in aligning the embeddings of different modalities (e.g., text and images) or different aspects of the same modality (e.g., different query types).\n",
    "- **Outcome**: By adjusting the embeddings to be more similar to each other, the model can more effectively compare and retrieve relevant documents based on the input query.\n"
   ]
  },
  {
   "cell_type": "code",
   "execution_count": 38,
   "id": "47f1cb71-58de-4998-a3f7-ca6b13ce605d",
   "metadata": {},
   "outputs": [],
   "source": [
    "test_vector = torch.ones((mat_size,1))"
   ]
  },
  {
   "cell_type": "code",
   "execution_count": 39,
   "id": "79bba6da-56ba-4b81-86aa-d00d019898c7",
   "metadata": {},
   "outputs": [
    {
     "data": {
      "text/plain": [
       "torch.Size([384, 1])"
      ]
     },
     "execution_count": 39,
     "metadata": {},
     "output_type": "execute_result"
    }
   ],
   "source": [
    "test_vector.shape"
   ]
  },
  {
   "cell_type": "code",
   "execution_count": 40,
   "id": "6f02ec65-0e15-483d-aaa6-dfd92e052b64",
   "metadata": {},
   "outputs": [
    {
     "data": {
      "image/png": "[encoded data removed]",
      "text/plain": [
       "<Figure size 640x480 with 1 Axes>"
      ]
     },
     "metadata": {},
     "output_type": "display_data"
    }
   ],
   "source": [
    "import matplotlib.pyplot as plt\n",
    "plt.bar(range(len(test_vector)), test_vector.flatten())\n",
    "plt.show()"
   ]
  },
  {
   "cell_type": "code",
   "execution_count": 41,
   "id": "5aabd502-e8f6-4d73-a466-269785e661f5",
   "metadata": {},
   "outputs": [],
   "source": [
    "scaled_vector = np.matmul(best_matrix, test_vector).numpy()"
   ]
  },
  {
   "cell_type": "code",
   "execution_count": 42,
   "id": "fb88d2fb-5b42-4e34-94dd-40da384eb771",
   "metadata": {},
   "outputs": [
    {
     "data": {
      "image/png": "[encoded data removed]",
      "text/plain": [
       "<Figure size 640x480 with 1 Axes>"
      ]
     },
     "metadata": {},
     "output_type": "display_data"
    }
   ],
   "source": [
    "plt.bar(range(len(scaled_vector)), scaled_vector.flatten())\n",
    "plt.show()"
   ]
  },
  {
   "cell_type": "code",
   "execution_count": 43,
   "id": "b6fec219-ffff-4653-be1e-c0c39a18bfc9",
   "metadata": {},
   "outputs": [
    {
     "name": "stderr",
     "output_type": "stream",
     "text": [
      "100%|█████████████████████████████████████████████████████████████████████████| 15/15 [00:14<00:00,  1.02it/s]\n",
      "100%|█████████████████████████████████████████████████████████████████████████| 15/15 [00:14<00:00,  1.04it/s]\n"
     ]
    }
   ],
   "source": [
    "query_embeddings         = embedding_function(generated_queries)\n",
    "adapted_query_embeddings = np.matmul(best_matrix, np.array(query_embeddings).T).T\n",
    "\n",
    "projected_query_embeddings         = project_embeddings(query_embeddings, umap_transform)\n",
    "projected_adapted_query_embeddings = project_embeddings(adapted_query_embeddings, umap_transform)"
   ]
  },
  {
   "cell_type": "code",
   "execution_count": 44,
   "id": "524e77c1-7ca8-4046-a44f-59e82efb2c24",
   "metadata": {},
   "outputs": [
    {
     "data": {
      "text/plain": [
       "<matplotlib.legend.Legend at 0x23eaf9ff500>"
      ]
     },
     "execution_count": 44,
     "metadata": {},
     "output_type": "execute_result"
    },
    {
     "data": {
      "image/png": "[encoded data removed]",
      "text/plain": [
       "<Figure size 640x480 with 1 Axes>"
      ]
     },
     "metadata": {},
     "output_type": "display_data"
    }
   ],
   "source": [
    "# Plot the projected query and retrieved documents in the embedding space\n",
    "plt.figure()\n",
    "plt.scatter(projected_dataset_embeddings[:, 0], projected_dataset_embeddings[:, 1], s=10, color='gray')\n",
    "plt.scatter(projected_query_embeddings[:, 0], projected_query_embeddings[:, 1], s=150, marker='X', color='r', label=\"original\")\n",
    "plt.scatter(projected_adapted_query_embeddings[:, 0], projected_adapted_query_embeddings[:, 1], s=150, marker='X', color='green', label=\"adapted\")\n",
    "\n",
    "plt.gca().set_aspect('equal', 'datalim')\n",
    "plt.title(\"Adapted Queries\")\n",
    "plt.axis('off')\n",
    "plt.legend()"
   ]
  },
  {
   "cell_type": "markdown",
   "id": "2f6cc4a4-e5a0-4cf7-b8a3-c4da1f0c4d0f",
   "metadata": {},
   "source": [
    "#### Key notes\n",
    "\n",
    "- Use of proper prompts\n",
    "- Use of LLMs (need for experimentation)\n",
    "- Use NN , instead of matrix mul for better results; Deep embedding adaptor\n",
    "- Generation of better synthetic data (user data)\n",
    "\n",
    "- Fine tuning LLM\n",
    "- Deep Chunking"
   ]
  },
  {
   "cell_type": "code",
   "execution_count": null,
   "id": "645cc695-bf3a-4f33-bf6e-6ab336c4b489",
   "metadata": {},
   "outputs": [],
   "source": []
  },
  {
   "cell_type": "code",
   "execution_count": null,
   "id": "e2efc385-abeb-4997-b130-12038236c10f",
   "metadata": {},
   "outputs": [],
   "source": []
  }
 ],
 "metadata": {
  "kernelspec": {
   "display_name": "Python 3 (ipykernel)",
   "language": "python",
   "name": "python3"
  },
  "language_info": {
   "codemirror_mode": {
    "name": "ipython",
    "version": 3
   },
   "file_extension": ".py",
   "mimetype": "text/x-python",
   "name": "python",
   "nbconvert_exporter": "python",
   "pygments_lexer": "ipython3",
   "version": "3.12.3"
  }
 },
 "nbformat": 4,
 "nbformat_minor": 5
}
